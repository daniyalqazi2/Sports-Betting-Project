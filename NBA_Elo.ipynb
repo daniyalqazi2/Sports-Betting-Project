{
 "cells": [
  {
   "cell_type": "code",
   "execution_count": 9,
   "id": "4317fedf",
   "metadata": {},
   "outputs": [
    {
     "data": {
      "text/plain": [
       "\"This project aims to build the best elo rating systems for teams in the NBA. Below, I've provided outlines for the\\ntwo methods you will need to modify: win_prob() and change_elo(). I will use these two methods of yours to test the\\neffectiveness of your elo ranking system. I've attached the schedules and outcomes of five historical NBA seasons for\\nyou to train your data (from SR) and will be using the most recently completely season to test. Please do not pull\\nthe testing data as that will defeat the purpose of this project. Keep in mind, this is the bare minimum outline. \\nYou are encouraged to pull this code and write any tuning algorithms you deem necessary to further build your elo\\nsystem. Best of luck!\""
      ]
     },
     "execution_count": 9,
     "metadata": {},
     "output_type": "execute_result"
    }
   ],
   "source": [
    "'''This project aims to build the best elo rating systems for teams in the NBA. Below, I've provided outlines for the\n",
    "two methods you will need to modify: win_prob() and change_elo(). I will use these two methods of yours to test the\n",
    "effectiveness of your elo ranking system. I've attached the schedules and outcomes of five historical NBA seasons for\n",
    "you to train your data (from SR) and will be using the most recently completely season to test. Please do not pull\n",
    "the testing data as that will defeat the purpose of this project. Keep in mind, this is the bare minimum outline. \n",
    "You are encouraged to pull this code and write any tuning algorithms you deem necessary to further build your elo\n",
    "system. Best of luck!'''"
   ]
  },
  {
   "cell_type": "code",
   "execution_count": 10,
   "id": "5cce140a",
   "metadata": {},
   "outputs": [],
   "source": [
    "import pandas as pd\n",
    "import numpy as np\n",
    "import sklearn as sl\n",
    "import math"
   ]
  },
  {
   "cell_type": "code",
   "execution_count": 11,
   "id": "851464d0",
   "metadata": {
    "scrolled": true
   },
   "outputs": [],
   "source": [
    "#read in data\n",
    "\n",
    "games = pd.read_csv('NBA_2020_21.csv')"
   ]
  },
  {
   "cell_type": "code",
   "execution_count": 12,
   "id": "1293ea0d",
   "metadata": {},
   "outputs": [],
   "source": [
    "#initial elo for each team\n",
    "\n",
    "teams = {\n",
    "    \"Brooklyn Nets\":          0, #set initial values here (float)\n",
    "    \"Milwaukee Bucks\":        0,\n",
    "    \"Golden State Warriors\":  0,\n",
    "    \"Los Angeles Lakers\":     0,\n",
    "    \"Indiana Pacers\":         0,\n",
    "    \"Charlotte Hornets\":      0,\n",
    "    \"Chicago Bulls\":          0,\n",
    "    \"Detroit Pistons\":        0,\n",
    "    \"Boston Celtics\":         0,\n",
    "    \"New York Knicks\":        0,\n",
    "    \"Washington Wizards\":     0,\n",
    "    \"Toronto Raptors\":        0,\n",
    "    \"Cleveland Cavaliers\":    0,\n",
    "    \"Memphis Grizzlies\":      0,\n",
    "    \"Houston Rockets\":        0,\n",
    "    \"Minnesota Timberwolves\": 0,\n",
    "    \"Philadelphia 76ers\":     0,\n",
    "    \"New Orleans Pelicans\":   0,\n",
    "    \"Orlando Magic\":          0,\n",
    "    \"San Antonio Spurs\":      0,\n",
    "    \"Oklahoma City Thunder\":  0,\n",
    "    \"Utah Jazz\":              0,\n",
    "    \"Sacramento Kings\":       0,\n",
    "    \"Portland Trail Blazers\": 0,\n",
    "    \"Denver Nuggets\":         0,\n",
    "    \"Phoenix Suns\":           0,\n",
    "    \"Dallas Mavericks\":       0,\n",
    "    \"Atlanta Hawks\":          0,\n",
    "    \"Miami Heat\":             0,\n",
    "    \"Los Angeles Clippers\":   0\n",
    "}"
   ]
  },
  {
   "cell_type": "code",
   "execution_count": 13,
   "id": "45084fcb",
   "metadata": {},
   "outputs": [],
   "source": [
    "#given two teams and their elos, return the probability of winning for the first team\n",
    "#input: team 1 elo (float), team 2 elo (float)\n",
    "#output: team 1 win probability between 0 and 1 (float)\n",
    "awayFactor = 0.9\n",
    "\n",
    "def win_prob(team_1_elo, team_2_elo) -> float:\n",
    "    eloDiff = team_2_elo - team_1_elo # this ordering gives win probability of team 1\n",
    "    team_1_win_prob = awayFactor * (10**(eloDiff / 420) + 1)**-1\n",
    "    \n",
    "    return team_1_win_prob"
   ]
  },
  {
   "cell_type": "code",
   "execution_count": 14,
   "id": "3308b9b0",
   "metadata": {},
   "outputs": [],
   "source": [
    "#given two teams and their original elos, return their new elos considering the outcome of their game\n",
    "#input: team 1 elo (float), team 2 elo (float), game (DataFrame)\n",
    "#ouput: new team 1 elo (float), new team 2 elo (float)\n",
    "\n",
    "def change_elo(team_1_elo, team_2_elo, game) -> float:\n",
    "    #K-factor is how much a win/loss affects the ELO\n",
    "    #S1 is indicator variable for outcome of the game, 1 for team 1 win, 0 for team 1 loss, S2 is for team 2\n",
    "\n",
    "    pointDiff = game['team_1_score'] - game['team_2_score']\n",
    "\n",
    "    K = 24\n",
    "    if game['team_1_score'] > game['team_2_score']:\n",
    "        S1 = 1\n",
    "        S2 = 0\n",
    "    else:\n",
    "        S1 = 0\n",
    "        S2 = 1\n",
    "\n",
    "    new_team_1_elo = team_1_elo + K * (S1 - win_prob(team_1_elo, team_2_elo)) + pointDiff/4\n",
    "    new_team_2_elo = team_2_elo + K * (S2 - (1 - win_prob(team_1_elo, team_2_elo))) - pointDiff/4\n",
    "    \n",
    "    return new_team_1_elo, new_team_2_elo"
   ]
  },
  {
   "cell_type": "code",
   "execution_count": 15,
   "id": "a4e91102",
   "metadata": {
    "scrolled": true
   },
   "outputs": [
    {
     "data": {
      "text/plain": [
       "0.4516051947048719"
      ]
     },
     "execution_count": 15,
     "metadata": {},
     "output_type": "execute_result"
    }
   ],
   "source": [
    "#how predictive is the elo system?\n",
    "#squared loss forcasting test (Brier Score)\n",
    "#the lower the score, the better\n",
    "def test() -> float:\n",
    "    score = 0\n",
    "    gCount = 0\n",
    "    for index, row in games.iterrows():\n",
    "        gCount = gCount + 1\n",
    "        team_1, team_2 = row['team_1'], row['team_2']\n",
    "        current_team_1_elo, current_team_2_elo = teams.get(team_1), teams.get(team_2)\n",
    "        \n",
    "        win = win_prob(current_team_1_elo, current_team_2_elo)\n",
    "        \n",
    "        new_team_1_elo, new_team_2_elo = change_elo(current_team_1_elo, current_team_2_elo, row)\n",
    "        teams.update({team_1: new_team_1_elo})\n",
    "        teams.update({team_2: new_team_2_elo})\n",
    "        \n",
    "        if row['team_1_score'] > row['team_2_score']:\n",
    "            score = score + 2*(1 - win)**2\n",
    "        else:\n",
    "            score = score + 2*win**2\n",
    "            \n",
    "    return score/gCount\n",
    "\n",
    "test()            "
   ]
  },
  {
   "cell_type": "code",
   "execution_count": 16,
   "id": "869d5223",
   "metadata": {},
   "outputs": [
    {
     "name": "stdout",
     "output_type": "stream",
     "text": [
      "Team                      ELO Rating\n",
      "-----------------------------------\n",
      "Milwaukee Bucks           286.84    \n",
      "Phoenix Suns              265.86    \n",
      "Los Angeles Clippers      202.72    \n",
      "Utah Jazz                 200.93    \n",
      "Philadelphia 76ers        195.07    \n",
      "Brooklyn Nets             186.14    \n",
      "Atlanta Hawks             151.12    \n",
      "Denver Nuggets            140.41    \n",
      "Portland Trail Blazers    102.55    \n",
      "Dallas Mavericks          88.46     \n",
      "New York Knicks           83.12     \n",
      "Los Angeles Lakers        62.12     \n",
      "Memphis Grizzlies         53.70     \n",
      "Golden State Warriors     49.62     \n",
      "Miami Heat                33.78     \n",
      "Washington Wizards        0.15      \n",
      "Boston Celtics            -21.59    \n",
      "Indiana Pacers            -35.54    \n",
      "Chicago Bulls             -39.69    \n",
      "New Orleans Pelicans      -55.56    \n",
      "San Antonio Spurs         -70.32    \n",
      "Sacramento Kings          -80.69    \n",
      "Charlotte Hornets         -101.46   \n",
      "Minnesota Timberwolves    -125.74   \n",
      "Toronto Raptors           -141.54   \n",
      "Detroit Pistons           -228.74   \n",
      "Cleveland Cavaliers       -277.80   \n",
      "Orlando Magic             -285.98   \n",
      "Oklahoma City Thunder     -317.91   \n",
      "Houston Rockets           -320.02   \n"
     ]
    }
   ],
   "source": [
    "def print_elo_values(teams):\n",
    "    # Sort the teams by their ELO values in descending order\n",
    "    sorted_teams = sorted(teams.items(), key=lambda x: x[1], reverse=True)\n",
    "\n",
    "    # Print the ELO values of each team in a formatted way\n",
    "    print(\"{:<25s} {:<10s}\".format(\"Team\", \"ELO Rating\"))\n",
    "    print(\"-\" * 35)\n",
    "    for team, elo in sorted_teams:\n",
    "        print(\"{:<25s} {:<10.2f}\".format(team, elo))\n",
    "\n",
    "print_elo_values(teams)\n"
   ]
  }
 ],
 "metadata": {
  "kernelspec": {
   "display_name": "Python 3",
   "language": "python",
   "name": "python3"
  },
  "language_info": {
   "codemirror_mode": {
    "name": "ipython",
    "version": 3
   },
   "file_extension": ".py",
   "mimetype": "text/x-python",
   "name": "python",
   "nbconvert_exporter": "python",
   "pygments_lexer": "ipython3",
   "version": "3.11.1"
  },
  "vscode": {
   "interpreter": {
    "hash": "aee8b7b246df8f9039afb4144a1f6fd8d2ca17a180786b69acc140d282b71a49"
   }
  }
 },
 "nbformat": 4,
 "nbformat_minor": 5
}
